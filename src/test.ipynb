{
 "cells": [
  {
   "cell_type": "code",
   "execution_count": null,
   "id": "33194162",
   "metadata": {},
   "outputs": [],
   "source": [
    "from src.modules import NPKRecommender, SeedTreatmentRecommender, CoverCropMixRecommender, FinalRecommeder"
   ]
  },
  {
   "cell_type": "code",
   "execution_count": 2,
   "id": "2d7fb6a2",
   "metadata": {},
   "outputs": [],
   "source": [
    "import json\n",
    "import pandas as pd"
   ]
  },
  {
   "cell_type": "code",
   "execution_count": 3,
   "id": "8de041c4",
   "metadata": {},
   "outputs": [],
   "source": [
    "import os\n",
    "from dotenv import load_dotenv\n",
    "load_dotenv(override=True)\n",
    "OPENROUTER_API_KEY = os.getenv(\"OPENROUTER_API_KEY\")\n",
    "TOGETHER_API_KEY = os.getenv(\"TOGETHER_API_KEY\")"
   ]
  },
  {
   "cell_type": "code",
   "execution_count": 4,
   "id": "c34f36ba",
   "metadata": {},
   "outputs": [],
   "source": [
    "with open(\"prompts//npk_recommend_prompt.json\", \"r\", encoding=\"utf-8\") as f:\n",
    "    npk_recommend_prompt_data = json.load(f)\n",
    "npk_recommend_system_prompt = npk_recommend_prompt_data[\"system_prompt\"]\n",
    "npk_recommend_user_prompt = npk_recommend_prompt_data[\"user_prompt\"]\n",
    "\n",
    "with open(\"prompts//seed_treatment_prompt.json\", \"r\", encoding=\"utf-8\") as f:\n",
    "    seed_treatment_prompt_data = json.load(f)\n",
    "seed_treatment_system_prompt = seed_treatment_prompt_data[\"system_prompt\"]\n",
    "seed_treatment_user_prompt = seed_treatment_prompt_data[\"user_prompt\"]\n",
    "\n",
    "with open(\"prompts//final_recommend_prompt.json\", \"r\", encoding=\"utf-8\") as f:\n",
    "    final_recommend_prompt_data = json.load(f)\n",
    "final_recommend_system_prompt = final_recommend_prompt_data[\"system_prompt\"]\n",
    "final_recommend_user_prompt = final_recommend_prompt_data[\"user_prompt\"]\n"
   ]
  },
  {
   "cell_type": "code",
   "execution_count": 5,
   "id": "cc570d47",
   "metadata": {},
   "outputs": [],
   "source": [
    "cover_crop_mix_recommender_ = CoverCropMixRecommender(\"data/target_cover_crop.csv\", \"data/cover_crop_goal.json\", \"data/recommend_cover_crop.csv\")\n",
    "npk_recommender_ = NPKRecommender(\"data/target_npk.csv\", npk_recommend_system_prompt, npk_recommend_user_prompt, TOGETHER_API_KEY)\n",
    "seed_treatment_recommender_ = SeedTreatmentRecommender(\"data/target_seed_treatment.csv\", seed_treatment_system_prompt, seed_treatment_user_prompt, TOGETHER_API_KEY)\n",
    "final_recommender_ = FinalRecommeder(final_recommend_system_prompt, final_recommend_user_prompt, TOGETHER_API_KEY)"
   ]
  },
  {
   "cell_type": "code",
   "execution_count": null,
   "id": "0b97c8a2",
   "metadata": {},
   "outputs": [],
   "source": [
    "inputs = {\n",
    "    \"current_cash_crop\": \"Maize\",\n",
    "    \"next_cash_crop\": \"Soybean\",\n",
    "    \"after_next_cash_crop\": \"Potato\",\n",
    "    \"crop_type\": \"Maize\",\n",
    "    \"N\": 65,      \n",
    "    \"P\": 18,       \n",
    "    \"K\": 160,      \n",
    "    \"pH\": 5.8,\n",
    "    \"CEC\": 12.4,\n",
    "    \"SOC\": 1.2,\n",
    "    \"sand\": 45,  \n",
    "    \"silt\": 35,\n",
    "    \"clay\": 20\n",
    "}"
   ]
  },
  {
   "cell_type": "code",
   "execution_count": null,
   "id": "38aa1291",
   "metadata": {},
   "outputs": [
    {
     "name": "stdout",
     "output_type": "stream",
     "text": [
      "### Reasoning Section\n",
      "1. The current levels of N, P, and K are 65 mg/kg, 18 mg/kg, and 160 mg/kg, respectively. For maize, the optimal ranges are typically around 80-120 mg/kg for N, 20-30 mg/kg for P, and 150-200 mg/kg for K. Thus, N is slightly below the optimal range, P is at the lower end of the optimal range, and K is within the optimal range.\n",
      "2. The pH of 5.8 is slightly acidic, which can affect nutrient uptake. Most nutrients are available to plants when the pH is between 6.0 and 7.0. At a pH of 5.8, the availability of nutrients like P, K, and some micronutrients might be slightly reduced, but N availability is generally less affected by slightly acidic conditions.\n",
      "3. The CEC of 12.4 cmol/kg is moderate, indicating the soil has a moderate capacity to retain nutrients. This means the soil can hold a reasonable amount of nutrients but might not retain them as well as soils with higher CEC values.\n",
      "4. The SOC of 1.2% is relatively low, which can impact the soil's ability to retain and supply nutrients. Soils with higher organic matter tend to have better nutrient retention and supply capabilities.\n",
      "5. The soil composition of 45% sand, 35% silt, and 20% clay indicates a soil that is prone to leaching due to its relatively high sand content. This could lead to a loss of nutrients, especially N, over time.\n",
      "6. Given these factors, the recommended additional fertilizer amounts might need adjustment. For N, considering the soil's moderate CEC, low SOC, and potential for leaching, the application rate might need to be increased to ensure sufficient availability throughout the growing season. For P and K, since they are already at or near optimal levels and considering the soil's characteristics, the current recommendations of 0 kg/ha might be adequate, but careful monitoring of soil and plant conditions is necessary to avoid deficiencies.\n",
      "\n",
      "### Conclusion Section\n",
      "[(N_rec, 60.0, Increased due to slightly low initial level and soil characteristics prone to leaching), (P_rec, 0, Already at the lower end of the optimal range and considering soil conditions), (K_rec, 0, Within the optimal range and soil retains it moderately well)]\n"
     ]
    }
   ],
   "source": [
    "npk_recommend = npk_recommender_.recommend(\n",
    "    crop_type=inputs[\"crop_type\"],\n",
    "    N=inputs[\"N\"],\n",
    "    P=inputs[\"P\"],\n",
    "    K=inputs[\"K\"],\n",
    "    sand=inputs[\"sand\"],\n",
    "    silt=inputs[\"silt\"],\n",
    "    clay=inputs[\"clay\"],\n",
    "    ph=inputs[\"pH\"],\n",
    "    cec=inputs[\"CEC\"],\n",
    "    soc=inputs[\"SOC\"]\n",
    ")\n",
    "print(npk_recommend)"
   ]
  },
  {
   "cell_type": "code",
   "execution_count": 8,
   "id": "7889f1e2",
   "metadata": {},
   "outputs": [
    {
     "data": {
      "text/plain": [
       "'\\n[(N_rec, 60.0, Increased due to slightly low initial level and soil characteristics prone to leaching), (P_rec, 0, Already at the lower end of the optimal range and considering soil conditions), (K_rec, 0, Within the optimal range and soil retains it moderately well)]'"
      ]
     },
     "execution_count": 8,
     "metadata": {},
     "output_type": "execute_result"
    }
   ],
   "source": [
    "npk_recommend.split(\"### Conclusion Section\")[-1]"
   ]
  },
  {
   "cell_type": "code",
   "execution_count": null,
   "id": "137fdfe0",
   "metadata": {},
   "outputs": [
    {
     "name": "stdout",
     "output_type": "stream",
     "text": [
      "### Reasoning Section\n",
      "1. Analyzing the nutrient levels: \n",
      "   - N (65 mg/kg) is relatively low for maize, which requires a significant amount of nitrogen for growth.\n",
      "   - P (18 mg/kg) is low, as maize benefits from higher phosphorus levels, especially during early growth stages.\n",
      "   - K (160 mg/kg) is medium to high, which is suitable for maize as it requires a substantial amount of potassium.\n",
      "\n",
      "2. Evaluating pH effects:\n",
      "   - The pH of 5.8 is slightly acidic, which can affect microbial activity. Most microbes thrive in a pH range of 6.0 to 8.0. However, some microbes like Mycorrhiza can tolerate a wider pH range.\n",
      "\n",
      "3. Considering CEC:\n",
      "   - A CEC of 12.4 cmol/kg indicates moderate nutrient retention capacity. This is not extremely low, suggesting that the soil can retain some nutrients, but it may not be optimal for all inoculants.\n",
      "\n",
      "4. Assessing SOC:\n",
      "   - SOC of 1.2% is relatively low, indicating limited organic matter and potentially reduced microbial support capacity. This suggests the need for inoculants that can thrive in low organic matter conditions or contribute to improving soil health.\n",
      "\n",
      "5. Analyzing soil texture:\n",
      "   - The soil composition (45% Sand, 35% Silt, 20% Clay) suggests moderate moisture retention. This texture can support a variety of microbial life but may require careful management to optimize water and nutrient availability.\n",
      "\n",
      "6. Evaluating inoculant-method pairs:\n",
      "   - **Azospirillum (Seed coating)**: Azospirillum is a nitrogen-fixing bacterium that can be beneficial for maize. Seed coating is a suitable method for this inoculant, as it directly exposes the seed to the beneficial microbes. However, the slightly acidic pH might affect its performance.\n",
      "   - **Azotobacter (Slurry method)**: Azotobacter is another nitrogen-fixing bacterium. The slurry method can be effective but might be less suitable due to the soil's moderate moisture retention and potential for limited nutrient availability.\n",
      "   - **Mycorrhiza (Powder mixing)**: Mycorrhiza can enhance phosphorus uptake, which is beneficial given the low P levels. Mycorrhiza can tolerate a wide pH range, including slightly acidic conditions, making it a potentially good choice.\n",
      "\n",
      "### Conclusion Section\n",
      "[('Mycorrhiza', 'Powder mixing', 'Suitable for low P conditions and tolerant of slightly acidic pH'), \n",
      "('Azospirillum', 'Seed coating', 'Benefits maize by fixing nitrogen, despite potential slight reduction in effectiveness due to pH')]\n"
     ]
    }
   ],
   "source": [
    "seed_treatment_recommend = seed_treatment_recommender_.recommend(\n",
    "    crop_type=inputs[\"crop_type\"],\n",
    "    N=inputs[\"N\"],\n",
    "    P=inputs[\"P\"],\n",
    "    K=inputs[\"K\"],\n",
    "    sand=inputs[\"sand\"],\n",
    "    silt=inputs[\"silt\"],\n",
    "    clay=inputs[\"clay\"],\n",
    "    ph=inputs[\"pH\"],\n",
    "    cec=inputs[\"CEC\"],\n",
    "    soc=inputs[\"SOC\"]\n",
    ")\n",
    "print(seed_treatment_recommend)"
   ]
  },
  {
   "cell_type": "code",
   "execution_count": null,
   "id": "d820e45e",
   "metadata": {},
   "outputs": [
    {
     "name": "stdout",
     "output_type": "stream",
     "text": [
      "[('Rye', ['Erosion Control', 'Weed Suppression']), ('Mustard', ['Pest/Disease Management', 'Weed Suppression']), ('Hairy Vetch', ['Build Soil Organic Matter'])]\n"
     ]
    }
   ],
   "source": [
    "cover_crop_mix_recommend = cover_crop_mix_recommender_.recommend(\n",
    "    current_cash_crop=inputs[\"current_cash_crop\"],\n",
    "    next_cash_crop=inputs[\"next_cash_crop\"],\n",
    "    after_next_cash_crop=inputs[\"after_next_cash_crop\"],\n",
    "    N=inputs[\"N\"],\n",
    "    P=inputs[\"P\"],\n",
    "    K=inputs[\"K\"],\n",
    "    sand=inputs[\"sand\"],\n",
    "    silt=inputs[\"silt\"],\n",
    "    clay=inputs[\"clay\"]\n",
    ")\n",
    "print(cover_crop_mix_recommend)"
   ]
  },
  {
   "cell_type": "code",
   "execution_count": 17,
   "id": "f06ab863",
   "metadata": {},
   "outputs": [
    {
     "data": {
      "text/plain": [
       "'[(N_rec, 60.0, Increased due to slightly low initial level and soil characteristics prone to leaching), (P_rec, 0, Already at the lower end of the optimal range and considering soil conditions), (K_rec, 0, Within the optimal range and soil retains it moderately well)]'"
      ]
     },
     "execution_count": 17,
     "metadata": {},
     "output_type": "execute_result"
    }
   ],
   "source": [
    "npk_recommend.split(\"### Conclusion Section\\n\")[-1]"
   ]
  },
  {
   "cell_type": "code",
   "execution_count": 12,
   "id": "6cb63378",
   "metadata": {},
   "outputs": [],
   "source": [
    "new_inputs = {\n",
    "    \"crop_type\": inputs[\"crop_type\"],\n",
    "    \"NPK_recs\": npk_recommend.split(\"### Conclusion Section\")[-1],\n",
    "    \"inoculant_methods\": seed_treatment_recommend.split(\"### Conclusion Section\")[-1],\n",
    "    \"cover_crops\": cover_crop_mix_recommend,\n",
    "}"
   ]
  },
  {
   "cell_type": "code",
   "execution_count": 18,
   "id": "e6b1e49f",
   "metadata": {},
   "outputs": [],
   "source": [
    "a= inputs[\"crop_type\"]\n",
    "b= npk_recommend.split(\"### Conclusion Section\\n\")[-1]\n",
    "c= seed_treatment_recommend.split(\"### Conclusion Section\\n\")[-1]\n",
    "d= cover_crop_mix_recommend"
   ]
  },
  {
   "cell_type": "code",
   "execution_count": 21,
   "id": "593538fd",
   "metadata": {},
   "outputs": [
    {
     "data": {
      "text/plain": [
       "'[(N_rec, 60.0, Increased due to slightly low initial level and soil characteristics prone to leaching), (P_rec, 0, Already at the lower end of the optimal range and considering soil conditions), (K_rec, 0, Within the optimal range and soil retains it moderately well)]'"
      ]
     },
     "execution_count": 21,
     "metadata": {},
     "output_type": "execute_result"
    }
   ],
   "source": [
    "b"
   ]
  },
  {
   "cell_type": "code",
   "execution_count": 23,
   "id": "ec15036c",
   "metadata": {},
   "outputs": [
    {
     "name": "stdout",
     "output_type": "stream",
     "text": [
      "**Farmer-Friendly Summary for Maize Crop**\n",
      "\n",
      "### Fertilizer Advice\n",
      "\n",
      "Based on the soil analysis, here are the fertilizer recommendations for your maize crop:\n",
      "\n",
      "* **Nitrogen (N):** An additional application of 60.0 kg/ha is recommended. This is because the initial soil level is slightly low and the soil characteristics are prone to leaching, which could lead to nitrogen deficiency during the crop's growth.\n",
      "* **Phosphorus (P):** No additional application is needed, as the current level is already at the lower end of the optimal range and considering the soil conditions.\n",
      "* **Potassium (K):** No additional application is needed, as the current level is within the optimal range and the soil retains it moderately well.\n",
      "\n",
      "### Inoculants\n",
      "\n",
      "The following inoculant-method pairs are recommended for your maize crop:\n",
      "\n",
      "* **Mycorrhiza - Powder mixing:** This method is suitable for low phosphorus conditions and is tolerant of slightly acidic pH. Mycorrhiza helps in improving phosphorus uptake by the plants, which is beneficial for maize growth.\n",
      "* **Azospirillum - Seed coating:** Azospirillum is a nitrogen-fixing bacterium that benefits maize by providing additional nitrogen, despite a potential slight reduction in effectiveness due to pH. This method involves coating the seeds with Azospirillum before planting, which helps in colonizing the bacteria on the roots and enhancing nitrogen fixation.\n",
      "\n",
      "To apply these inoculants, follow the specific method recommended for each. For Mycorrhiza, mix the powder with the soil or seed starting material according to the product's instructions. For Azospirillum, coat the maize seeds with the bacterium according to the product's guidelines before planting.\n",
      "\n",
      "### Cover Crops\n",
      "\n",
      "The following cover crops are recommended for your maize field, along with their associated goals:\n",
      "\n",
      "* **Rye:** Supports erosion control and weed suppression. Planting Rye as a cover crop helps in holding the soil in place, reducing erosion, and competing with weeds for water and nutrients.\n",
      "* **Mustard:** Supports pest/disease management and weed suppression. Mustard has natural properties that help in managing pests and diseases, and its growth suppresses weeds, reducing competition for the main crop.\n",
      "* **Hairy Vetch:** Supports building soil organic matter. Hairy Vetch is a legume that fixes nitrogen and adds organic matter to the soil, improving its fertility and structure over time.\n",
      "\n",
      "By incorporating these recommendations into your farming practice, you can improve the health and productivity of your maize crop, enhance soil fertility, and reduce potential environmental impacts.\n"
     ]
    }
   ],
   "source": [
    "e = final_recommender_.recommend(a,b,c,d)\n",
    "print(e)"
   ]
  }
 ],
 "metadata": {
  "kernelspec": {
   "display_name": "venv",
   "language": "python",
   "name": "python3"
  },
  "language_info": {
   "codemirror_mode": {
    "name": "ipython",
    "version": 3
   },
   "file_extension": ".py",
   "mimetype": "text/x-python",
   "name": "python",
   "nbconvert_exporter": "python",
   "pygments_lexer": "ipython3",
   "version": "3.12.8"
  }
 },
 "nbformat": 4,
 "nbformat_minor": 5
}
